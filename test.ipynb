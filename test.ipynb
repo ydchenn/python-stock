{
 "cells": [
  {
   "cell_type": "code",
   "execution_count": 1,
   "id": "6f8c960e-70d8-4d10-aa2c-e75d1703e94b",
   "metadata": {},
   "outputs": [
    {
     "name": "stdout",
     "output_type": "stream",
     "text": [
      "All packages imported successfully!\n"
     ]
    }
   ],
   "source": [
    "import pandas as pd\n",
    "import matplotlib.pyplot as plt\n",
    "import seaborn as sns\n",
    "import yfinance as yf\n",
    "\n",
    "print(\"All packages imported successfully!\")\n"
   ]
  },
  {
   "cell_type": "code",
   "execution_count": 3,
   "id": "2d940782-f49f-4c5e-8d3a-99fbb4f6d412",
   "metadata": {},
   "outputs": [
    {
     "name": "stderr",
     "output_type": "stream",
     "text": [
      "[*********************100%***********************]  1 of 1 completed"
     ]
    },
    {
     "name": "stdout",
     "output_type": "stream",
     "text": [
      "Price           Close       High        Low       Open    Volume\n",
      "Ticker      006208.TW  006208.TW  006208.TW  006208.TW 006208.TW\n",
      "Date                                                            \n",
      "2023-01-03  59.893463  59.989142  58.697507  59.128052   3198969\n",
      "2023-01-04  59.654270  59.989140  59.558595  59.702111   3077969\n",
      "2023-01-05  60.084812  60.419682  59.893459  59.989137   1844396\n",
      "2023-01-06  60.467525  60.706717  60.036981  60.084818   3349418\n",
      "2023-01-09  62.428890  62.476731  61.424284  61.424284   4405321\n"
     ]
    },
    {
     "name": "stderr",
     "output_type": "stream",
     "text": [
      "\n"
     ]
    }
   ],
   "source": [
    "import yfinance as yf\n",
    "\n",
    "# 定義台股股票代碼\n",
    "stock_symbol = \"006208.TW\"\n",
    "\n",
    "# 抓取最近一年的數據\n",
    "data = yf.download(stock_symbol, start=\"2023-01-01\", end=\"2024-01-01\")\n",
    "\n",
    "# 查看前幾行數據\n",
    "print(data.head())\n"
   ]
  },
  {
   "cell_type": "code",
   "execution_count": 16,
   "id": "2119dcde-6312-451a-ace9-7b4a61a821f6",
   "metadata": {},
   "outputs": [
    {
     "name": "stdout",
     "output_type": "stream",
     "text": [
      "MultiIndex([( 'Close', '006208.TW'),\n",
      "            (  'High', '006208.TW'),\n",
      "            (   'Low', '006208.TW'),\n",
      "            (  'Open', '006208.TW'),\n",
      "            ('Volume', '006208.TW')],\n",
      "           names=['Price', 'Ticker'])\n"
     ]
    }
   ],
   "source": [
    "print(data.columns)"
   ]
  },
  {
   "cell_type": "code",
   "execution_count": null,
   "id": "3815eaa3-a380-4272-9283-ad081110d0fa",
   "metadata": {},
   "outputs": [],
   "source": []
  }
 ],
 "metadata": {
  "kernelspec": {
   "display_name": "Python [conda env:base] *",
   "language": "python",
   "name": "conda-base-py"
  },
  "language_info": {
   "codemirror_mode": {
    "name": "ipython",
    "version": 3
   },
   "file_extension": ".py",
   "mimetype": "text/x-python",
   "name": "python",
   "nbconvert_exporter": "python",
   "pygments_lexer": "ipython3",
   "version": "3.12.7"
  }
 },
 "nbformat": 4,
 "nbformat_minor": 5
}
